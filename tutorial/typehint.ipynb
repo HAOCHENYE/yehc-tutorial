{
 "cells": [
  {
   "cell_type": "markdown",
   "metadata": {},
   "source": [
    "# 为什么要写 typehint\n",
    "\n",
    "## 提升代码可读性\n",
    "\n",
    "想让代码可读性更好？又不想写太多注释或者 docstring？那么 typehint 就是你的不二之选。"
   ]
  },
  {
   "cell_type": "code",
   "execution_count": null,
   "metadata": {},
   "outputs": [],
   "source": [
    "import numpy as np\n",
    "def add(a, b):\n",
    "    return a + b"
   ]
  },
  {
   "cell_type": "code",
   "execution_count": null,
   "metadata": {},
   "outputs": [],
   "source": [
    "import numpy as np\n",
    "\n",
    "def add(a: np.ndarray, b: np.ndarray) -> np.ndarray:\n",
    "    return a + b\n",
    "\n",
    "c = add(np.array(1), np.array(2))"
   ]
  },
  {
   "cell_type": "markdown",
   "metadata": {},
   "source": [
    "## 利用 IDE，提升编程体验\n",
    "\n",
    "如果你经常使用 PyTorch 的接口，例如："
   ]
  },
  {
   "cell_type": "code",
   "execution_count": null,
   "metadata": {},
   "outputs": [],
   "source": [
    "import torch\n",
    "\n",
    "x = torch.Tensor(1)\n",
    "\n",
    "\n",
    "# 1. x. 可以直接出现可用接口提示\n",
    "\n",
    "# 2. tensor 进行一些运算后，仍然有类型提示\n",
    "\n",
    "x = x.view(-1, 1)"
   ]
  },
  {
   "cell_type": "markdown",
   "metadata": {},
   "source": [
    "## 利用 typehints 开发实用特性\n",
    "\n",
    "### MMEval 基于 TypeHints 实现分发\n",
    "\n",
    "```python\n",
    "# Code in MMEval\n",
    "\n",
    "class Accuracy(BaseMetric):\n",
    "    @overload  # type: ignore\n",
    "    @dispatch\n",
    "    def _compute_corrects(\n",
    "        self, \n",
    "        predictions: Union['torch.Tensor', Sequence['torch.Tensor']],\n",
    "        labels: Union['torch.Tensor', Sequence['torch.Tensor']]) -> 'torch.Tensor':\n",
    "        ...\n",
    "    \n",
    "    @overload  # type: ignore\n",
    "    @dispatch\n",
    "    def _compute_corrects(\n",
    "        self, \n",
    "        predictions: Union['tensorflow.Tensor', Sequence['tensorflow.Tensor']],\n",
    "        labels: Union['tensorflow.Tensor', Sequence['tensorflow.Tensor']]) -> 'tensorflow.Tensor':\n",
    "```\n",
    "\n",
    "### PyTorch 基于 TypeHints 实现 torch.jit.script\n",
    "\n",
    "![img_v2_72963cb6-bdba-4338-ab54-a364af948c1g](https://user-images.githubusercontent.com/57566630/204156355-d0ca1683-bcae-4bd9-a3a6-1dcf6c266d9f.jpg)\n"
   ]
  },
  {
   "cell_type": "markdown",
   "metadata": {},
   "source": [
    "## 增加代码鲁棒性\n",
    "\n",
    "见[鲁棒性示例](./typehints/robustness.py)"
   ]
  },
  {
   "cell_type": "markdown",
   "metadata": {},
   "source": [
    "# 怎么写 TypeHints\n",
    "\n",
    "## 基本类型"
   ]
  },
  {
   "cell_type": "code",
   "execution_count": null,
   "metadata": {},
   "outputs": [],
   "source": [
    "# 声明类型 + 定义 \n",
    "a: int = 1\n",
    "# 先声明 \n",
    "b: int\n",
    "# 后定义 \n",
    "b = 1 \n",
    "# str 类型的 Type Hints \n",
    "repo: str = 'mmcv' \n",
    "# float 类型的 Type Hints  \n",
    "value: float = 0.1 \n",
    "# 函数中的 typehint, 输出类型用 -> 连接 \n",
    "def foo(a: int, b: int=1) -> int: \n",
    "    return a + b "
   ]
  },
  {
   "cell_type": "markdown",
   "metadata": {},
   "source": [
    "## 复合型的 Type Hints"
   ]
  },
  {
   "cell_type": "code",
   "execution_count": null,
   "metadata": {},
   "outputs": [],
   "source": [
    "from typing import Any\n",
    "info: dict = dict(a=1, b=2)  # 等价于 Dict[Any, Any] \n",
    "element: list = [1]  # 等价于 List[Any] "
   ]
  },
  {
   "cell_type": "markdown",
   "metadata": {},
   "source": [
    "上述写法仅声明了变量本身的类型是 list/dict，而变量中的元素可以是任意类型（Any）。如果想进一步约束容器中元素的类型，则需要引入 typing 模块的 Dict 和 List："
   ]
  },
  {
   "cell_type": "code",
   "execution_count": null,
   "metadata": {},
   "outputs": [],
   "source": [
    "from typing import List, Tuple, Dict \n",
    "int_list: List[int] = [1, 2] \n",
    "int_tuple: Tuple[int, int] = (1, 1) \n",
    "str_int_dict: Dict[str, int] = dict(name=1) "
   ]
  },
  {
   "cell_type": "markdown",
   "metadata": {},
   "source": [
    "如果变量可能是多种类型，则需要引入 Union："
   ]
  },
  {
   "cell_type": "code",
   "execution_count": null,
   "metadata": {},
   "outputs": [],
   "source": [
    "from typing import Union\n",
    "int_or_float: Union[int, float] = 1 \n",
    "int_or_float = 0.5"
   ]
  },
  {
   "cell_type": "markdown",
   "metadata": {},
   "source": [
    "Optional 类来声明默认值为 None 的实例："
   ]
  },
  {
   "cell_type": "code",
   "execution_count": null,
   "metadata": {},
   "outputs": [],
   "source": [
    "from typing import Optional\n",
    "\n",
    "# 除了 None 以外只有可能是一种类型的 typehint 用 Optional\n",
    "single_none: Optional[str] = None \n",
    "\n",
    "# 除 None 以外，可能是多种类型的 typehint 用 Union\n",
    "multi_none: Union[str, int, None] = None\n",
    "# Optional[Union[str, int]]"
   ]
  },
  {
   "cell_type": "markdown",
   "metadata": {},
   "source": [
    "复杂一点的例子："
   ]
  },
  {
   "cell_type": "code",
   "execution_count": null,
   "metadata": {},
   "outputs": [],
   "source": [
    "complex_type = Union[List[int], int, None]"
   ]
  },
  {
   "cell_type": "markdown",
   "metadata": {},
   "source": [
    "## Type Hints 别名\n",
    "\n",
    "有些变量类型的 Type Hints 过于复杂，直接在函数中声明会影响接口的可读性，因此可以重命名特定的变量类型："
   ]
  },
  {
   "cell_type": "code",
   "execution_count": null,
   "metadata": {},
   "outputs": [],
   "source": [
    "complex_type = Union[List[int], int, None]\n",
    " \n",
    "def foo(comlex_arg: complex_type = None) -> None: \n",
    "    pass "
   ]
  },
  {
   "cell_type": "markdown",
   "metadata": {},
   "source": [
    "## 函数类型的 Type Hints\n",
    "\n",
    "可以使用 Callable 来声明函数类型的变量。直接使用 Callable 表示函数接受任意个数、任意类型的参数，并返回任意个数、任意类型的变量。如果想进一步约束函数入参和返回值类型，可以使用 Callable[[Arg1Type, Arg2Type], ReturnType]："
   ]
  },
  {
   "cell_type": "code",
   "execution_count": null,
   "metadata": {},
   "outputs": [],
   "source": [
    "from typing import Callable \n",
    " \n",
    "def foo(a: int, b: int) -> int: \n",
    "    return a + b \n",
    " \n",
    "# 不声明参数和返回值类型 \n",
    "def register_callback2(func: Callable):\n",
    "    pass \n",
    " \n",
    "# 声明入参类型和返回类型。入参为 （int, int），返回值类型为 int \n",
    "def register_callback1(func: Callable[[int, int], int]): \n",
    "    pass "
   ]
  },
  {
   "cell_type": "markdown",
   "metadata": {},
   "source": [
    "## Type Hints 对应的 docstring\n"
   ]
  },
  {
   "cell_type": "markdown",
   "metadata": {},
   "source": [
    "参数有默认值。直接在对应的 args 末尾加 Defaults to xxx 即可："
   ]
  },
  {
   "cell_type": "code",
   "execution_count": null,
   "metadata": {},
   "outputs": [],
   "source": [
    "def hello(name: str = 'heihei') -> None: \n",
    " \"\"\"Say hello to someone.\n",
    " \n",
    "    Args: \n",
    "    name (str): name of people. Defaults to \"heihei\". \n",
    "    \"\"\" "
   ]
  },
  {
   "cell_type": "markdown",
   "metadata": {},
   "source": [
    "參數有 None 作为默认值，则在括号中额外申明 optional"
   ]
  },
  {
   "cell_type": "code",
   "execution_count": null,
   "metadata": {},
   "outputs": [],
   "source": [
    "def hello(name: Optional[str] = None) -> None: \n",
    " \"\"\"Say hello to someone. \n",
    " \n",
    "    Args: \n",
    "    name (str, optional): name of people. Defaults to None\n",
    "    \"\"\" "
   ]
  },
  {
   "cell_type": "markdown",
   "metadata": {},
   "source": [
    "参数可能是多种类型。可以写作 （str or List[str]）或者 （str | List[str]）："
   ]
  },
  {
   "cell_type": "code",
   "execution_count": null,
   "metadata": {},
   "outputs": [],
   "source": [
    "def hello(name: Union[List[str], str]): \n",
    " \"\"\"Say hello to someone. \n",
    " \n",
    "    Args: \n",
    "        name (str or List[str]): name of people. \n",
    "    \"\"\" \n",
    " print(f'hello {name} ~') "
   ]
  },
  {
   "cell_type": "markdown",
   "metadata": {},
   "source": [
    "# mypy 静态检查\n",
    "\n",
    "- mypy 会对内置类型的表达式，做类型推导，因此内置类型不需要写 typehints 就能进行静态检查\n",
    "\n",
    "  详见[内置类型静态检查](./typehints/mypy_builtin.py)\n",
    "\n",
    "- mypy 可以配合 typehints，对源码中实现的类进行静态检查\n",
    "\n",
    "  详见 [自定义类型静态检查](./typehints/mypy_custom.py)\n",
    "\n",
    "- 基于 pre-commit hook 的 mypy 默认不会对三方库变量进行静态检查\n",
    "\n",
    "  ![image](https://user-images.githubusercontent.com/57566630/204158317-dad10382-296f-4797-9d57-aa3864289b21.png)\n",
    "\n",
    "  详见 [三方库变量静态检查](./typehints/mypy_3rdparty.py)\n",
    "\n",
    "\n",
    "\n"
   ]
  },
  {
   "cell_type": "markdown",
   "metadata": {},
   "source": [
    "# 静态检查常见问题\n",
    "\n",
    "> - mypy 配置项：https://mypy.readthedocs.io/en/stable/config_file.html\n",
    "> - 常见问题汇总： https://mypy.readthedocs.io/en/stable/common_issues.html#variables-vs-type-aliases\n"
   ]
  },
  {
   "cell_type": "markdown",
   "metadata": {},
   "source": [
    "## 变量的类型发生改变\n",
    "\n",
    "```python\n",
    "def parse_data(data: list): \n",
    "    data = torch.stack(data) \n",
    "    return data \n",
    "```\n",
    "\n",
    "这段代码是无法通过 mypy 检查的。入参 data 有 Type Hints，类型为 list，而 mypy 不允许复写变量类型。因此最好的解决方案是重命名变量：\n",
    "\n",
    "```python\n",
    "# 正确 \n",
    "def parse_data(data: list): \n",
    "    batch_data = torch.stack(data) \n",
    "    return batch_data\n",
    "```\n",
    "\n",
    "此外，我们也不应该复写 mypy 推导得到的变量类型：\n",
    "\n",
    "```python\n",
    "def my_func(condition) -> dict: \n",
    "    result = {'success': False} \n",
    " \n",
    "    if condition: \n",
    "        result['success'] = True \n",
    "        return result \n",
    "    else: \n",
    "        result['message'] = 'error message' \n",
    "    return result \n",
    "# error: Incompatible types in assignment (expression has type \"str\", target has type \"bool\")\n",
    "```\n",
    "\n",
    "mypy 推导得到的 results 类型为 Dict[str, bool]，而第 8 行复写为 Dict[str, str]，无法通过 mypy 检查。解决方案是预定义变量类型 :\n",
    "\n",
    "```python\n",
    "def my_func(condition) -> dict: \n",
    "    result: Dict[str, Union[str, bool]] = {'success': False} \n",
    " \n",
    "    if condition: \n",
    "        result['success'] = True \n",
    "        return result \n",
    "    else: \n",
    "        result['message'] = 'error message' \n",
    "    return result \n",
    "```\n",
    "\n",
    "## 入参类型不匹配\n",
    "\n",
    "对于某些变量，例如字典。写代码的人可能知道每个 key 对应的 value 是什么类型的，就可能会写出这样的代码：\n",
    "\n",
    "```python\n",
    "from typing import Dict, Union \n",
    " \n",
    "def count_chars(string) -> Dict[str, Union[str, bool, int]]: \n",
    "    result = {}  # type: Dict[str, Union[str, bool, int]] \n",
    " \n",
    "    if not isinstance(string, str): \n",
    "        result['success'] = False \n",
    "        result['message'] = 'Inavlid argument' \n",
    "    else: \n",
    "        result['success'] = True \n",
    "        result['result'] = len(string) \n",
    "    return result \n",
    " \n",
    "def get_square(integer: int) -> int: \n",
    "    return integer * integer \n",
    " \n",
    "def validate_str(string: str) -> bool: \n",
    "    check_count = count_chars(string) \n",
    "    if not check_count['success']: \n",
    "        print(check_count['message']) \n",
    "        return False \n",
    "    str_len_square = get_square(check_count['result']) \n",
    "    return bool(str_len_square > 42) \n",
    " \n",
    "result = validate_str(\"Lorem ipsum\") \n",
    "```"
   ]
  },
  {
   "cell_type": "markdown",
   "metadata": {},
   "source": [
    "我们显然知道，运行到 `get_square(check_count['result'])` 时，check_count['result'] 的类型是 int，而 get_square 的入参类型是 int。但是 mypy 并不知道这一点，因此会报错。对于这种情况，我们通常有 2 种解决方案：\n",
    "\n",
    "- 类型窄化\n",
    "\n",
    "    使用 isinstance 和 assert 对 check_count[\"result\"] 做类型限定。\n",
    "\n",
    "    ```python\n",
    "    def validate_str(string: str) -> bool: \n",
    "        check_count = count_chars(string) \n",
    "        if check_count['success'] is False: \n",
    "            print(check_count['message']) \n",
    "            return False \n",
    "        assert isinstance(check_count['result'], int) \n",
    "        str_len_square = get_square(check_count['result']) \n",
    "        return bool(str_len_square > 42) \n",
    "    ```\n",
    "\n",
    "- 类型忽视(摆烂，慎用)\n",
    "\n",
    "    ```python\n",
    "    def validate_str(string: str) -> bool: \n",
    "        check_count = count_chars(string) \n",
    "        if check_count['success'] is False: \n",
    "            print(check_count['message']) \n",
    "            return False \n",
    "        str_len_square = get_square(check_count['result'])  # type: ignore \n",
    "        return bool(str_len_square > 42) \n",
    "    ```\n"
   ]
  }
 ],
 "metadata": {
  "kernelspec": {
   "display_name": "Python 3.8.13 ('python38pytorch113')",
   "language": "python",
   "name": "python3"
  },
  "language_info": {
   "name": "python",
   "version": "3.8.13"
  },
  "orig_nbformat": 4,
  "vscode": {
   "interpreter": {
    "hash": "6b314de16d7ee67321a1229a48db7cb047629dcdfb8a206cba33263471c74e45"
   }
  }
 },
 "nbformat": 4,
 "nbformat_minor": 2
}
